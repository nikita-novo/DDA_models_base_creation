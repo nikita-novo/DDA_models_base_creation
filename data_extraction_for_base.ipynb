{
 "cells": [
  {
   "cell_type": "code",
   "execution_count": null,
   "metadata": {},
   "outputs": [],
   "source": [
    "import pandas as pd\n",
    "import numpy as np\n",
    "import re\n",
    "import subprocess\n",
    "from datetime import timedelta\n",
    "from tqdm import tqdm\n",
    "\n",
    "from sklearn.linear_model import LinearRegression, Lasso\n",
    "from sklearn.preprocessing import StandardScaler, normalize\n",
    "from sklearn.model_selection import train_test_split\n",
    "\n",
    "from sklearn import metrics\n",
    "from scipy import stats\n",
    "\n",
    "pd.set_option('display.max_rows', 100)\n",
    "pd.set_option('display.max_columns', 500)\n",
    "pd.set_option('display.width', 1000)"
   ]
  },
  {
   "cell_type": "code",
   "execution_count": null,
   "metadata": {},
   "outputs": [],
   "source": [
    "import warnings\n",
    "warnings.filterwarnings('ignore')"
   ]
  },
  {
   "cell_type": "code",
   "execution_count": null,
   "metadata": {},
   "outputs": [],
   "source": [
    "from config.config import SQLQuery\n",
    "q = SQLQuery('snowflake')"
   ]
  },
  {
   "attachments": {},
   "cell_type": "markdown",
   "metadata": {},
   "source": [
    "#### extracting response base from 29 Nov - 5 June"
   ]
  },
  {
   "cell_type": "code",
   "execution_count": null,
   "metadata": {},
   "outputs": [
    {
     "data": {
      "text/plain": [
       "((3236, 9), 1384)"
      ]
     },
     "metadata": {},
     "output_type": "display_data"
    }
   ],
   "source": [
    "resp_base = q(r\"\"\"\n",
    "with lending_businesses as (\n",
    "select distinct case when json_extract_path_text(predict_meta,'business_id') is null \n",
    "     then json_extract_path_text(json_extract_path_text(predict_meta,'data') , 'business_id')\n",
    "     else json_extract_path_text(predict_meta,'business_id') end as business_id,\n",
    "-- lending_business_id,\n",
    "date(created_at) as decision_date\n",
    "from FIVETRAN_DB.PROD_NOVO_API_PUBLIC.LENDING_DECISION_RESULTS\n",
    "where created_at >= '2022-11-29'\n",
    "and created_at < '2023-06-06'\n",
    "),\n",
    "target_businesses as (\n",
    "SELECT DISTINCT a.id AS business_id, APPLICATION_ID, decision_date,\n",
    "lower(regexp_replace(a.company_name, '(inc|inc.|llc|\\\\,|\\\\.|co|corp.|co.|corp)', '')) AS company_name, \n",
    "CASE WHEN dba IS NOT NULL THEN lower(regexp_replace(dba, '(inc|inc.|llc|\\\\,|\\\\.|co|corp.|co.|corp)', '')) ELSE NULL end AS dba,\n",
    "case when a.TYPE = 'sole_proprietorship' then 'sol_prop' else 'non sol_prop' end AS business_type\n",
    "FROM FIVETRAN_DB.PROD_NOVO_API_PUBLIC.BUSINESSES a \n",
    "join prod_db.data.businesses b\n",
    "on a.id = b.business_id\n",
    "join lending_businesses l\n",
    "on l.business_id = a.id\n",
    "),\n",
    "logic1 as (\n",
    "-- account name match\n",
    "SELECT distinct t1.id as plaid_item_id, t1.business_id, json_extract_path_text(json_extract_path_text(t2.value,'account'),'name') as ext_account_name,\n",
    "lower(regexp_replace(json_extract_path_text(json_extract_path_text(t2.value,'account'),'name'), '(inc|inc.|llc|\\\\,|\\\\.|co|corp.|co.|corp)', '')) AS external_acc_company_name ,\n",
    "json_extract_path_text(json_extract_path_text(t2.value,'ach'),'account') AS account_id\n",
    "FROM FIVETRAN_DB.plaid_data_public.plaid_items t1, LATERAL FLATTEN(input => \"META\") t2\n",
    "-- WHERE status = 'active'\n",
    "where account_id is not null\n",
    "and account_id != ''\n",
    "union\n",
    "SELECT distinct t1.id as plaid_item_id, t1.business_id, t2.value as ext_account_name,\n",
    "lower(regexp_replace(t2.value, '(inc|inc.|llc|\\\\,|\\\\.|co|corp.|co.|corp)', '')) AS external_acc_company_name, \n",
    "--'' as account_id,\n",
    "json_extract_path_text(json_extract_path_text(t3.value,'ach'),'account') AS account_id\n",
    "FROM FIVETRAN_DB.plaid_data_public.plaid_items t1, LATERAL FLATTEN(input => \"IDENTITY\":names) t2\n",
    ", LATERAL FLATTEN(input => \"META\") t3\n",
    "-- WHERE status = 'active'\n",
    "where account_id is not null\n",
    "and account_id != ''\n",
    "order by account_id\n",
    "),\n",
    "mapped_accts as (\n",
    "select distinct a.*, b.plaid_item_id, b.ext_account_name, b.external_acc_company_name, b.account_id, e.owned_by,\n",
    "case when ((company_name = external_acc_company_name) OR \n",
    "(SOUNDEX(company_name) = SOUNDEX(external_acc_company_name)) OR\n",
    "(dba IS NOT NULL AND dba = external_acc_company_name) OR\n",
    "(dba IS NOT NULL AND SOUNDEX(dba)=SOUNDEX(external_acc_company_name))) \n",
    "or ((len(external_acc_company_name)>3) and ((company_name LIKE '%' || external_acc_company_name || '%') or (external_acc_company_name LIKE '%' || company_name || '%')))\n",
    "or ((len(external_acc_company_name)>3) and (len(dba)>3) and (dba IS NOT NULL) and ((dba LIKE '%' || external_acc_company_name || '%') or (external_acc_company_name LIKE '%' || dba || '%')))\n",
    "then 1 else 0 end as name_match_flag\n",
    "from target_businesses a\n",
    "left join logic1 b \n",
    "on a.business_id = b.business_id\n",
    "left join metabase_db.external.external_accounts e\n",
    "on a.business_id = e.business_id\n",
    "and b.account_id = e.account_number\n",
    "where account_id is not null\n",
    "and account_id !=''\n",
    "), --6.78%\n",
    "logic2 as (\n",
    "-- email id match\n",
    "select distinct a.business_id, a.company_name, a.dba, email, email_domain, website\n",
    "from target_businesses a\n",
    "left join PROD_DB.DATA.APPLICATIONS b\n",
    "on a.application_id = b.application_id\n",
    "),\n",
    "plaid_email as (\n",
    "select distinct business_id, t1.id as plaid_item_id, json_extract_path_text(t2.value,'data') as email,\n",
    "json_extract_path_text(json_extract_path_text(t3.value,'ach'),'account') AS account_id\n",
    "from fivetran_db.plaid_data_public.plaid_items t1, LATERAL FLATTEN(input => \"IDENTITY\":emails) t2\n",
    ", LATERAL FLATTEN(input => \"META\") t3\n",
    "-- where status = 'active'\n",
    "),\n",
    "match_email as (\n",
    "select b.*, plaid_item_id, lower(t1.email) as plaid_email, account_id,\n",
    "case when (email_domain not in ('gmail.com','yahoo.com','outlook.com','hotmail.com','icloud.com','protonmail.com',\n",
    "'me.com','live.com','mail.com','comcast.net','att.net','msn.com','pm.me','mac.com') and \n",
    "          (\n",
    "          soundex(b.email_domain) = soundex(split_part(plaid_email,'@',2)) \n",
    "          or b.email_domain = split_part(plaid_email,'@',2) \n",
    "          \n",
    "          or soundex(company_name) = soundex(split_part(split_part(plaid_email,'@',2),'.',1)) \n",
    "          or company_name = split_part(split_part(plaid_email,'@',2),'.',1)\n",
    "          \n",
    "          or soundex(dba) = soundex(split_part(split_part(plaid_email,'@',2),'.',1)) \n",
    "          or dba = split_part(split_part(plaid_email,'@',2),'.',1)))\n",
    "          \n",
    "          or b.email = plaid_email\n",
    "          \n",
    "          or split_part(b.email_domain,'.',1) = split_part(plaid_email,'@',1)\n",
    "          \n",
    "          \n",
    "          or ((len(split_part(plaid_email,'@',1))>3) and (len(dba)>3) and (plaid_email IS NOT NULL) and ((dba LIKE '%' || split_part(plaid_email,'@',1) || '%') or (split_part(plaid_email,'@',1) LIKE '%' || dba || '%')))\n",
    "          or ((len(split_part(split_part(plaid_email,'@',2),'.',1))>3) and (len(dba)>3) and (plaid_email IS NOT NULL) and ((dba LIKE '%' || split_part(split_part(plaid_email,'@',2),'.',1) || '%') or split_part(split_part(plaid_email,'@',2),'.',1) LIKE '%' || dba || '%'))\n",
    "          \n",
    "          or ((len(split_part(plaid_email,'@',1))>3) and (len(company_name)>3) and (plaid_email IS NOT NULL) and ((company_name LIKE '%' || split_part(plaid_email,'@',1) || '%') or (split_part(plaid_email,'@',1) LIKE '%' || company_name || '%')))\n",
    "          or ((len(split_part(split_part(plaid_email,'@',2),'.',1))>3) and (len(company_name)>3) and (plaid_email IS NOT NULL) and ((company_name LIKE '%' || split_part(split_part(plaid_email,'@',2),'.',1) || '%') or split_part(split_part(plaid_email,'@',2),'.',1) LIKE '%' || company_name || '%'))\n",
    "          \n",
    "          then 1 else 0 end as email_match_flag\n",
    "from logic2 b\n",
    "left join plaid_email t1\n",
    "on t1.business_id = b.business_id\n",
    "order by business_id\n",
    "), \n",
    "logic4 as (\n",
    "--website match\n",
    "select distinct b.business_id, p.plaid_item_id, p.account_id, a.external_acc_company_name, lower(split_part(replace(b.website,'www.','.'),'.',1)) as cleaned_website, \n",
    "split_part(split_part(replace(lower(b.website),'www.','.'),'.',1),'//',2) as cleaned_website2, \n",
    "case when (b.website is not null) and (soundex(external_acc_company_name) = soundex(cleaned_website) \n",
    "          or (external_acc_company_name = cleaned_website)\n",
    "          or (cleaned_website = split_part(split_part(p.email,'@',2),'.',1))\n",
    "          or (cleaned_website = split_part(p.email,'@',1))\n",
    "          or (soundex(cleaned_website) = soundex(split_part(split_part(p.email,'@',2),'.',1))) \n",
    "          or (soundex(cleaned_website) = soundex(split_part(p.email,'@',1))) \n",
    "          or (soundex(external_acc_company_name) = soundex(cleaned_website2)) \n",
    "          or (external_acc_company_name = cleaned_website2)\n",
    "          or (cleaned_website2 = split_part(split_part(p.email,'@',2),'.',1))\n",
    "          or (cleaned_website2 = split_part(p.email,'@',1))\n",
    "          or (soundex(cleaned_website2) = soundex(split_part(split_part(p.email,'@',2),'.',1))) \n",
    "          or (soundex(cleaned_website2) = soundex(split_part(p.email,'@',1)))\n",
    "          \n",
    "          or ((len(cleaned_website)>3) and (len(split_part(split_part(p.email,'@',2),'.',1))>3) and ((split_part(split_part(p.email,'@',2),'.',1) LIKE '%' || cleaned_website || '%') or (cleaned_website LIKE '%' || split_part(split_part(p.email,'@',2),'.',1) || '%')))\n",
    "          or ((len(cleaned_website2)>3) and (len(split_part(p.email,'@',1))>3) and ((split_part(split_part(p.email,'@',2),'.',1) LIKE '%' || cleaned_website2 || '%') or (cleaned_website2 LIKE '%' || split_part(p.email,'@',1) || '%')))\n",
    "          \n",
    "          or ((len(cleaned_website)>3) and (len(split_part(split_part(p.email,'@',2),'.',1))>3) and ((split_part(split_part(p.email,'@',2),'.',1) LIKE '%' || cleaned_website || '%') or (cleaned_website LIKE '%' || split_part(split_part(p.email,'@',2),'.',1) || '%')))\n",
    "          or ((len(cleaned_website2)>3) and (len(split_part(p.email,'@',1))>3) and ((split_part(p.email,'@',1) LIKE '%' || cleaned_website2 || '%') or (cleaned_website2 LIKE '%' || split_part(p.email,'@',1) || '%')))\n",
    "          \n",
    "          or ((len(cleaned_website)>3) and (len(external_acc_company_name)>3) and ((external_acc_company_name LIKE '%' || cleaned_website || '%') or (cleaned_website LIKE '%' || external_acc_company_name || '%')))\n",
    "          or ((len(cleaned_website2)>3) and (len(external_acc_company_name)>3) and ((external_acc_company_name LIKE '%' || cleaned_website2 || '%') or (cleaned_website2 LIKE '%' || external_acc_company_name || '%')))\n",
    "          \n",
    "          )\n",
    "          \n",
    "          then 1 else 0 end as website_match\n",
    "from logic2 b\n",
    "left join plaid_email p\n",
    "on b.business_id = p.business_id\n",
    "left join logic1 a\n",
    "on a.business_id = b.business_id\n",
    "and p.account_id = a.account_id\n",
    "),\n",
    "final as (\n",
    "select distinct s.business_id, s.business_type, s.decision_date, a.company_name, a.dba, a.external_acc_company_name,\n",
    "case when a.plaid_item_id is null and d.plaid_item_id is null then b.plaid_item_id\n",
    "     when a.plaid_item_id is null and b.plaid_item_id is null then d.plaid_item_id\n",
    "     else a.plaid_item_id end as plaid_item_id, \n",
    "case when a.account_id is null and d.account_id is null then b.account_id\n",
    "     when a.account_id is null and b.account_id is null then d.account_id\n",
    "     else a.account_id end as account_id, \n",
    "a.owned_by,\n",
    "b.email, b.plaid_email,cleaned_website,\n",
    "max(a.name_match_flag) as name_match_flag,\n",
    "max(b.email_match_flag) as email_match_flag,\n",
    "max(website_match) as website_match_flag\n",
    "from target_businesses s\n",
    "left join mapped_accts a\n",
    "on s.business_id = a.business_id\n",
    "left join match_email b\n",
    "on a.business_id = b.business_id\n",
    "and a.account_id = b.account_id\n",
    "left join logic4 d\n",
    "on d.business_id = s.business_id\n",
    "and a.account_id = d.account_id\n",
    "group by 1,2,3,4,5,6,7,8,9,10,11,12\n",
    "),\n",
    "external_accts as (\n",
    "select *,\n",
    "case when name_match_flag=1 or email_match_flag=1 or website_match_flag=1\n",
    "then 1 else 0 end as final_flag\n",
    "from final\n",
    "),\n",
    "latest_mapped_acct as (\n",
    "select * from (\n",
    "    select distinct e.business_id, e.account_number, e.id, e.created_at,\n",
    "    row_number() over(partition by e.business_id, e.account_number order by e.created_at desc) as row_num\n",
    "    from METABASE_DB.EXTERNAL.EXTERNAL_ACCOUNTS e\n",
    "    join lending_businesses l\n",
    "    on e.business_id = l.business_id)\n",
    "where row_num =1\n",
    "),\n",
    "base1 as (\n",
    "select distinct a.business_id, a.decision_date, a.account_id, d.id as EXTERNAL_ACCOUNT_ID, final_flag as logic_match_flag\n",
    "-- case when business_type='sol_prop' --and (a.owned_by is null or a.owned_by='' or a.owned_by='business') )\n",
    "-- or business_type!='sol_prop' then 1 else 0 end as business_acct_flag\n",
    "from external_accts a\n",
    "left join latest_mapped_acct d\n",
    "on a.account_id = d.account_number\n",
    "and a.business_id = d.business_id\n",
    "and a.account_id is not null\n",
    "and a.account_id!=''\n",
    "order by business_id, account_id\n",
    "),\n",
    "initial_match as (\n",
    "select *\n",
    "from base1\n",
    "where logic_match_flag = 1 \n",
    "-- and business_acct_flag = 1\n",
    "),\n",
    "min_txns as (\n",
    "select t.business_id, min(date) as min_txn_date\n",
    "FROM FIVETRAN_DB.plaid_data_public.PLAID_TRANSACTIONS t\n",
    "join (select distinct business_id, decision_date, EXTERNAL_ACCOUNT_ID \n",
    "from initial_match) b\n",
    "on t.business_id = b.business_id \n",
    "and date(t.date) >= date(dateadd(day,-360,decision_date))  \n",
    "and date(t.date) < date(decision_date)\n",
    "and t.external_account_id = b.external_account_id\n",
    "where pending = FALSE \n",
    "and (_fivetran_deleted = FALSE or _fivetran_deleted is null)\n",
    "and t.EXTERNAL_ACCOUNT_ID is not null\n",
    "group by 1\n",
    "),\n",
    "ext_txns as (\n",
    "select distinct b.business_id, b.decision_date, t.EXTERNAL_ACCOUNT_ID,\n",
    "date(date) as date, amount, TRANSACTION_id, type, description\n",
    "FROM FIVETRAN_DB.plaid_data_public.PLAID_TRANSACTIONS t\n",
    "join (select distinct business_id, decision_date, EXTERNAL_ACCOUNT_ID \n",
    "from initial_match) b\n",
    "on t.business_id = b.business_id\n",
    "and date(t.date) >= date(dateadd(day,-180,decision_date))  \n",
    "and date(t.date) < date(decision_date)\n",
    "and t.external_account_id = b.external_account_id\n",
    "where pending = FALSE \n",
    "and (_fivetran_deleted = FALSE or _fivetran_deleted is null\n",
    "and t.EXTERNAL_ACCOUNT_ID is not null)\n",
    "),\n",
    "txns_count as (\n",
    "select business_id, count(distinct TRANSACTION_id) as count_txns\n",
    "from ext_txns\n",
    "group by 1\n",
    "),\n",
    "matched_businesses as (\n",
    "select * from (\n",
    "select distinct a.business_id,\n",
    "a.decision_date,\n",
    "date(dateadd(day,-180,decision_date)) as txn_start_date,\n",
    "a.account_id,\n",
    "a.external_account_id,\n",
    "a.logic_match_flag,\n",
    "-- a.business_acct_flag,\n",
    "case when (min_txn_date < date(dateadd(day,-150,decision_date))) then 1 else 0 end as sixth_mnth_txn_avail_flag,\n",
    "case when (count_txns > 0) then 1 else 0 end as txn_avail_flag,\n",
    "case when external_account_id is null then 0 else 1 end as ext_acct_avail_flag\n",
    "from base1 a\n",
    "left join txns_count b\n",
    "on a.business_id = b.business_id\n",
    "left join min_txns c\n",
    "on a.business_id = c.business_id)\n",
    "where logic_match_flag = 1 \n",
    "-- and business_acct_flag = 1\n",
    "and sixth_mnth_txn_avail_flag = 1\n",
    "and txn_avail_flag = 1\n",
    "and ext_acct_avail_flag = 1\n",
    ")\n",
    "\n",
    "select *\n",
    "from matched_businesses \n",
    "\"\"\")\n",
    "resp_base.shape, resp_base.business_id.nunique()"
   ]
  },
  {
   "cell_type": "code",
   "execution_count": null,
   "metadata": {},
   "outputs": [
    {
     "data": {
      "text/html": [
       "<div>\n",
       "<style scoped>\n",
       "    .dataframe tbody tr th:only-of-type {\n",
       "        vertical-align: middle;\n",
       "    }\n",
       "\n",
       "    .dataframe tbody tr th {\n",
       "        vertical-align: top;\n",
       "    }\n",
       "\n",
       "    .dataframe thead th {\n",
       "        text-align: right;\n",
       "    }\n",
       "</style>\n",
       "<table border=\"1\" class=\"dataframe\">\n",
       "  <thead>\n",
       "    <tr style=\"text-align: right;\">\n",
       "      <th></th>\n",
       "      <th>business_id</th>\n",
       "      <th>decision_date</th>\n",
       "      <th>txn_start_date</th>\n",
       "      <th>account_id</th>\n",
       "      <th>external_account_id</th>\n",
       "      <th>logic_match_flag</th>\n",
       "      <th>sixth_mnth_txn_avail_flag</th>\n",
       "      <th>txn_avail_flag</th>\n",
       "      <th>ext_acct_avail_flag</th>\n",
       "    </tr>\n",
       "  </thead>\n",
       "  <tbody>\n",
       "    <tr>\n",
       "      <th>0</th>\n",
       "      <td>ef94d738-20f3-45c2-9c11-9a636e469885</td>\n",
       "      <td>2023-03-12</td>\n",
       "      <td>2022-09-13</td>\n",
       "      <td>1110025509491</td>\n",
       "      <td>5e224820-2a09-4b70-bcb6-5d17ff326091</td>\n",
       "      <td>1</td>\n",
       "      <td>1</td>\n",
       "      <td>1</td>\n",
       "      <td>1</td>\n",
       "    </tr>\n",
       "    <tr>\n",
       "      <th>1</th>\n",
       "      <td>a2317f88-325b-43ee-9423-6c711856555b</td>\n",
       "      <td>2023-02-02</td>\n",
       "      <td>2022-08-06</td>\n",
       "      <td>446037014555</td>\n",
       "      <td>58cecb8c-5a35-4109-8cc5-186a4c80c712</td>\n",
       "      <td>1</td>\n",
       "      <td>1</td>\n",
       "      <td>1</td>\n",
       "      <td>1</td>\n",
       "    </tr>\n",
       "    <tr>\n",
       "      <th>2</th>\n",
       "      <td>252c9a3f-338f-43fc-893f-87e4c8184e8c</td>\n",
       "      <td>2023-03-15</td>\n",
       "      <td>2022-09-16</td>\n",
       "      <td>193328941</td>\n",
       "      <td>a3924492-77d6-4a3e-a10d-f66c183f3730</td>\n",
       "      <td>1</td>\n",
       "      <td>1</td>\n",
       "      <td>1</td>\n",
       "      <td>1</td>\n",
       "    </tr>\n",
       "    <tr>\n",
       "      <th>3</th>\n",
       "      <td>252c9a3f-338f-43fc-893f-87e4c8184e8c</td>\n",
       "      <td>2023-03-15</td>\n",
       "      <td>2022-09-16</td>\n",
       "      <td>199586667</td>\n",
       "      <td>af8b6a29-a923-4477-a72f-11b230d33d46</td>\n",
       "      <td>1</td>\n",
       "      <td>1</td>\n",
       "      <td>1</td>\n",
       "      <td>1</td>\n",
       "    </tr>\n",
       "    <tr>\n",
       "      <th>4</th>\n",
       "      <td>ef94d738-20f3-45c2-9c11-9a636e469885</td>\n",
       "      <td>2023-03-12</td>\n",
       "      <td>2022-09-13</td>\n",
       "      <td>1110008414843</td>\n",
       "      <td>98c2a099-fb5f-48b8-a17d-1093d15a9f7f</td>\n",
       "      <td>1</td>\n",
       "      <td>1</td>\n",
       "      <td>1</td>\n",
       "      <td>1</td>\n",
       "    </tr>\n",
       "  </tbody>\n",
       "</table>\n",
       "</div>"
      ],
      "text/plain": [
       "                            business_id decision_date txn_start_date     account_id                   external_account_id  logic_match_flag  sixth_mnth_txn_avail_flag  txn_avail_flag  ext_acct_avail_flag\n",
       "0  ef94d738-20f3-45c2-9c11-9a636e469885    2023-03-12     2022-09-13  1110025509491  5e224820-2a09-4b70-bcb6-5d17ff326091                 1                          1               1                    1\n",
       "1  a2317f88-325b-43ee-9423-6c711856555b    2023-02-02     2022-08-06   446037014555  58cecb8c-5a35-4109-8cc5-186a4c80c712                 1                          1               1                    1\n",
       "2  252c9a3f-338f-43fc-893f-87e4c8184e8c    2023-03-15     2022-09-16      193328941  a3924492-77d6-4a3e-a10d-f66c183f3730                 1                          1               1                    1\n",
       "3  252c9a3f-338f-43fc-893f-87e4c8184e8c    2023-03-15     2022-09-16      199586667  af8b6a29-a923-4477-a72f-11b230d33d46                 1                          1               1                    1\n",
       "4  ef94d738-20f3-45c2-9c11-9a636e469885    2023-03-12     2022-09-13  1110008414843  98c2a099-fb5f-48b8-a17d-1093d15a9f7f                 1                          1               1                    1"
      ]
     },
     "metadata": {},
     "output_type": "display_data"
    }
   ],
   "source": [
    "resp_base.head()"
   ]
  },
  {
   "cell_type": "code",
   "execution_count": null,
   "metadata": {},
   "outputs": [
    {
     "data": {
      "text/plain": [
       "3236"
      ]
     },
     "metadata": {},
     "output_type": "display_data"
    }
   ],
   "source": [
    "from sqlalchemy.types import NVARCHAR\n",
    "\n",
    "resp_base.to_sql(name='lending_response_base_w_plaid_match_v2_20230623',\n",
    "                 con=q.engine, \n",
    "                 schema='prod_db.adhoc',\n",
    "                 if_exists='append', \n",
    "                 index=False, \n",
    "                 chunksize=16000, \n",
    "                 method='multi',\n",
    "                 dtype={col_name: NVARCHAR for col_name in resp_base})"
   ]
  },
  {
   "attachments": {},
   "cell_type": "markdown",
   "metadata": {},
   "source": [
    "#### extracting last 6m transactions for extracted base"
   ]
  },
  {
   "cell_type": "code",
   "execution_count": null,
   "metadata": {},
   "outputs": [
    {
     "data": {
      "text/plain": [
       "((504387, 20), 1384)"
      ]
     },
     "metadata": {},
     "output_type": "display_data"
    }
   ],
   "source": [
    "txns = q(r\"\"\" \n",
    "select distinct t.*\n",
    "FROM FIVETRAN_DB.plaid_data_public.PLAID_TRANSACTIONS t\n",
    "join prod_db.adhoc.lending_response_base_w_plaid_match_v2_20230623 b\n",
    "on t.business_id = b.business_id\n",
    "and t.EXTERNAL_ACCOUNT_ID = b.EXTERNAL_ACCOUNT_ID\n",
    "and date(t.date) >= date(b.txn_start_date)\n",
    "and date(t.date) < b.decision_date\n",
    "where t.pending = FALSE \n",
    "and (t._fivetran_deleted = FALSE or t._fivetran_deleted is null)\n",
    "\"\"\")\n",
    "txns.shape, txns.business_id.nunique()"
   ]
  },
  {
   "cell_type": "code",
   "execution_count": null,
   "metadata": {},
   "outputs": [
    {
     "data": {
      "text/plain": [
       "504387"
      ]
     },
     "metadata": {},
     "output_type": "display_data"
    }
   ],
   "source": [
    "txns.to_sql(name='lending_dda_l6m_plaid_txns_20230623',\n",
    "                 con=q.engine, \n",
    "                 schema='prod_db.adhoc',\n",
    "                 if_exists='append', \n",
    "                 index=False, \n",
    "                 chunksize=16000, \n",
    "                 method='multi',\n",
    "                 dtype={col_name: NVARCHAR for col_name in txns})"
   ]
  },
  {
   "cell_type": "code",
   "execution_count": null,
   "metadata": {},
   "outputs": [],
   "source": []
  },
  {
   "attachments": {},
   "cell_type": "markdown",
   "metadata": {},
   "source": [
    "#### merging the txns with the approval base with target"
   ]
  },
  {
   "cell_type": "code",
   "execution_count": null,
   "metadata": {},
   "outputs": [
    {
     "data": {
      "text/plain": [
       "((3236, 9), (708, 7))"
      ]
     },
     "metadata": {},
     "output_type": "display_data"
    }
   ],
   "source": [
    "resp = q(r\"\"\" select * from prod_db.adhoc.lending_response_base_w_plaid_match_v2_20230623 \"\"\")\n",
    "\n",
    "appr = q(r\"\"\" select * from prod_db.adhoc.LENDING_BASE_TARGET_23JUN \"\"\")\n",
    "\n",
    "resp.shape, appr.shape"
   ]
  },
  {
   "cell_type": "code",
   "execution_count": null,
   "metadata": {},
   "outputs": [
    {
     "data": {
      "text/html": [
       "<div>\n",
       "<style scoped>\n",
       "    .dataframe tbody tr th:only-of-type {\n",
       "        vertical-align: middle;\n",
       "    }\n",
       "\n",
       "    .dataframe tbody tr th {\n",
       "        vertical-align: top;\n",
       "    }\n",
       "\n",
       "    .dataframe thead th {\n",
       "        text-align: right;\n",
       "    }\n",
       "</style>\n",
       "<table border=\"1\" class=\"dataframe\">\n",
       "  <thead>\n",
       "    <tr style=\"text-align: right;\">\n",
       "      <th></th>\n",
       "      <th>lending_business_id</th>\n",
       "      <th>business_id</th>\n",
       "      <th>created_at</th>\n",
       "      <th>drawn_flag</th>\n",
       "      <th>everDPD_15</th>\n",
       "      <th>fico_score</th>\n",
       "      <th>target</th>\n",
       "    </tr>\n",
       "  </thead>\n",
       "  <tbody>\n",
       "    <tr>\n",
       "      <th>0</th>\n",
       "      <td>5249377a-500b-42a7-af3e-109b648c928d</td>\n",
       "      <td>b14a4191-4139-446d-aa66-b071e4eb8ccb</td>\n",
       "      <td>2023-03-24 17:29:54.080531+00:00</td>\n",
       "      <td>1</td>\n",
       "      <td>None</td>\n",
       "      <td>800</td>\n",
       "      <td>0</td>\n",
       "    </tr>\n",
       "    <tr>\n",
       "      <th>1</th>\n",
       "      <td>fe14006a-6546-43a3-a1a6-88c4993f8f3f</td>\n",
       "      <td>416d0695-5f0f-4d37-88d8-53ecad0b1f5f</td>\n",
       "      <td>2023-04-25 23:30:57.040311+00:00</td>\n",
       "      <td>1</td>\n",
       "      <td>0</td>\n",
       "      <td>600</td>\n",
       "      <td>0</td>\n",
       "    </tr>\n",
       "  </tbody>\n",
       "</table>\n",
       "</div>"
      ],
      "text/plain": [
       "                    lending_business_id                           business_id                        created_at drawn_flag everDPD_15 fico_score target\n",
       "0  5249377a-500b-42a7-af3e-109b648c928d  b14a4191-4139-446d-aa66-b071e4eb8ccb  2023-03-24 17:29:54.080531+00:00          1       None        800      0\n",
       "1  fe14006a-6546-43a3-a1a6-88c4993f8f3f  416d0695-5f0f-4d37-88d8-53ecad0b1f5f  2023-04-25 23:30:57.040311+00:00          1          0        600      0"
      ]
     },
     "metadata": {},
     "output_type": "display_data"
    }
   ],
   "source": [
    "appr.head(2)"
   ]
  },
  {
   "cell_type": "code",
   "execution_count": null,
   "metadata": {},
   "outputs": [
    {
     "data": {
      "text/plain": [
       "(708, 8)"
      ]
     },
     "metadata": {},
     "output_type": "display_data"
    }
   ],
   "source": [
    "base = resp[['business_id','decision_date']].drop_duplicates().merge(appr,on=['business_id']).reset_index(drop=True)\n",
    "base.shape"
   ]
  },
  {
   "cell_type": "code",
   "execution_count": null,
   "metadata": {},
   "outputs": [
    {
     "name": "stdout",
     "output_type": "stream",
     "text": [
      "(708, 7)\n"
     ]
    },
    {
     "data": {
      "text/html": [
       "<div>\n",
       "<style scoped>\n",
       "    .dataframe tbody tr th:only-of-type {\n",
       "        vertical-align: middle;\n",
       "    }\n",
       "\n",
       "    .dataframe tbody tr th {\n",
       "        vertical-align: top;\n",
       "    }\n",
       "\n",
       "    .dataframe thead th {\n",
       "        text-align: right;\n",
       "    }\n",
       "</style>\n",
       "<table border=\"1\" class=\"dataframe\">\n",
       "  <thead>\n",
       "    <tr style=\"text-align: right;\">\n",
       "      <th></th>\n",
       "      <th>business_id</th>\n",
       "      <th>lending_business_id</th>\n",
       "      <th>decision_date</th>\n",
       "      <th>drawn_flag</th>\n",
       "      <th>everDPD_15</th>\n",
       "      <th>fico_score</th>\n",
       "      <th>target</th>\n",
       "    </tr>\n",
       "  </thead>\n",
       "  <tbody>\n",
       "    <tr>\n",
       "      <th>0</th>\n",
       "      <td>a2317f88-325b-43ee-9423-6c711856555b</td>\n",
       "      <td>01e38425-5486-4c95-b6b0-de5c57319255</td>\n",
       "      <td>2023-02-02</td>\n",
       "      <td>1</td>\n",
       "      <td>0</td>\n",
       "      <td>721</td>\n",
       "      <td>0</td>\n",
       "    </tr>\n",
       "    <tr>\n",
       "      <th>1</th>\n",
       "      <td>252c9a3f-338f-43fc-893f-87e4c8184e8c</td>\n",
       "      <td>166d62fb-70ed-4214-8a75-1223dfbbd06e</td>\n",
       "      <td>2023-03-15</td>\n",
       "      <td>1</td>\n",
       "      <td>0</td>\n",
       "      <td>846</td>\n",
       "      <td>0</td>\n",
       "    </tr>\n",
       "    <tr>\n",
       "      <th>2</th>\n",
       "      <td>420bb9d6-c156-4e29-8060-420fa8753e7f</td>\n",
       "      <td>2c5dbbbc-327b-48ac-a737-73dc0c2a4d26</td>\n",
       "      <td>2023-03-07</td>\n",
       "      <td>1</td>\n",
       "      <td>0</td>\n",
       "      <td>720</td>\n",
       "      <td>0</td>\n",
       "    </tr>\n",
       "    <tr>\n",
       "      <th>3</th>\n",
       "      <td>d9f1ffe7-f652-45ec-bdd6-5d530cf6a24a</td>\n",
       "      <td>588d7169-4d5c-4725-bc69-3e6d5e32d394</td>\n",
       "      <td>2023-02-15</td>\n",
       "      <td>1</td>\n",
       "      <td>0</td>\n",
       "      <td>720</td>\n",
       "      <td>0</td>\n",
       "    </tr>\n",
       "    <tr>\n",
       "      <th>4</th>\n",
       "      <td>588127e8-c54e-42d0-955a-a22e64207a2f</td>\n",
       "      <td>4bbe29b6-f631-4146-829c-880d71809e26</td>\n",
       "      <td>2023-03-24</td>\n",
       "      <td>1</td>\n",
       "      <td>0</td>\n",
       "      <td>687</td>\n",
       "      <td>0</td>\n",
       "    </tr>\n",
       "  </tbody>\n",
       "</table>\n",
       "</div>"
      ],
      "text/plain": [
       "                            business_id                   lending_business_id decision_date drawn_flag everDPD_15 fico_score target\n",
       "0  a2317f88-325b-43ee-9423-6c711856555b  01e38425-5486-4c95-b6b0-de5c57319255    2023-02-02          1          0        721      0\n",
       "1  252c9a3f-338f-43fc-893f-87e4c8184e8c  166d62fb-70ed-4214-8a75-1223dfbbd06e    2023-03-15          1          0        846      0\n",
       "2  420bb9d6-c156-4e29-8060-420fa8753e7f  2c5dbbbc-327b-48ac-a737-73dc0c2a4d26    2023-03-07          1          0        720      0\n",
       "3  d9f1ffe7-f652-45ec-bdd6-5d530cf6a24a  588d7169-4d5c-4725-bc69-3e6d5e32d394    2023-02-15          1          0        720      0\n",
       "4  588127e8-c54e-42d0-955a-a22e64207a2f  4bbe29b6-f631-4146-829c-880d71809e26    2023-03-24          1          0        687      0"
      ]
     },
     "metadata": {},
     "output_type": "display_data"
    }
   ],
   "source": [
    "base = base[['business_id','lending_business_id','decision_date','drawn_flag','everDPD_15','fico_score','target']]\n",
    "print(base.shape)\n",
    "base.head()"
   ]
  },
  {
   "attachments": {},
   "cell_type": "markdown",
   "metadata": {},
   "source": [
    "#### filtering txns base only for approvals"
   ]
  },
  {
   "cell_type": "code",
   "execution_count": null,
   "metadata": {},
   "outputs": [
    {
     "data": {
      "text/plain": [
       "((242838, 20), 708)"
      ]
     },
     "metadata": {},
     "output_type": "display_data"
    }
   ],
   "source": [
    "txns = q(r\"\"\" \n",
    "select * \n",
    "from prod_db.adhoc.lending_dda_l6m_plaid_txns_20230623\n",
    "where business_id in (\n",
    "select distinct business_id from prod_db.adhoc.LENDING_BASE_TARGET_23JUN\n",
    ")\n",
    "\"\"\")\n",
    "txns.shape, txns.business_id.nunique()"
   ]
  },
  {
   "cell_type": "code",
   "execution_count": null,
   "metadata": {},
   "outputs": [
    {
     "data": {
      "text/plain": [
       "((646, 7), 646)"
      ]
     },
     "metadata": {},
     "output_type": "display_data"
    }
   ],
   "source": [
    "temp = txns.groupby('business_id')['transaction_id'].nunique().reset_index()\n",
    "buss_id = temp[temp.transaction_id>20].business_id.unique().tolist()\n",
    "\n",
    "base_f = base[base.business_id.isin(buss_id)].reset_index(drop=True)\n",
    "base_f.shape, base_f.business_id.nunique()"
   ]
  },
  {
   "cell_type": "code",
   "execution_count": null,
   "metadata": {},
   "outputs": [
    {
     "data": {
      "text/plain": [
       "((242282, 20), 646)"
      ]
     },
     "metadata": {},
     "output_type": "display_data"
    }
   ],
   "source": [
    "txns_f = txns[txns.business_id.isin(buss_id)].reset_index(drop=True)\n",
    "txns_f.shape, txns_f.business_id.nunique()"
   ]
  },
  {
   "cell_type": "code",
   "execution_count": null,
   "metadata": {},
   "outputs": [
    {
     "data": {
      "text/html": [
       "<div>\n",
       "<style scoped>\n",
       "    .dataframe tbody tr th:only-of-type {\n",
       "        vertical-align: middle;\n",
       "    }\n",
       "\n",
       "    .dataframe tbody tr th {\n",
       "        vertical-align: top;\n",
       "    }\n",
       "\n",
       "    .dataframe thead th {\n",
       "        text-align: right;\n",
       "    }\n",
       "</style>\n",
       "<table border=\"1\" class=\"dataframe\">\n",
       "  <thead>\n",
       "    <tr style=\"text-align: right;\">\n",
       "      <th></th>\n",
       "      <th>business_id</th>\n",
       "      <th>lending_business_id</th>\n",
       "      <th>decision_date</th>\n",
       "      <th>drawn_flag</th>\n",
       "      <th>everDPD_15</th>\n",
       "      <th>fico_score</th>\n",
       "      <th>target</th>\n",
       "    </tr>\n",
       "  </thead>\n",
       "  <tbody>\n",
       "    <tr>\n",
       "      <th>0</th>\n",
       "      <td>a2317f88-325b-43ee-9423-6c711856555b</td>\n",
       "      <td>01e38425-5486-4c95-b6b0-de5c57319255</td>\n",
       "      <td>2023-02-02</td>\n",
       "      <td>1</td>\n",
       "      <td>0</td>\n",
       "      <td>721</td>\n",
       "      <td>0</td>\n",
       "    </tr>\n",
       "    <tr>\n",
       "      <th>1</th>\n",
       "      <td>252c9a3f-338f-43fc-893f-87e4c8184e8c</td>\n",
       "      <td>166d62fb-70ed-4214-8a75-1223dfbbd06e</td>\n",
       "      <td>2023-03-15</td>\n",
       "      <td>1</td>\n",
       "      <td>0</td>\n",
       "      <td>846</td>\n",
       "      <td>0</td>\n",
       "    </tr>\n",
       "    <tr>\n",
       "      <th>2</th>\n",
       "      <td>420bb9d6-c156-4e29-8060-420fa8753e7f</td>\n",
       "      <td>2c5dbbbc-327b-48ac-a737-73dc0c2a4d26</td>\n",
       "      <td>2023-03-07</td>\n",
       "      <td>1</td>\n",
       "      <td>0</td>\n",
       "      <td>720</td>\n",
       "      <td>0</td>\n",
       "    </tr>\n",
       "    <tr>\n",
       "      <th>3</th>\n",
       "      <td>d9f1ffe7-f652-45ec-bdd6-5d530cf6a24a</td>\n",
       "      <td>588d7169-4d5c-4725-bc69-3e6d5e32d394</td>\n",
       "      <td>2023-02-15</td>\n",
       "      <td>1</td>\n",
       "      <td>0</td>\n",
       "      <td>720</td>\n",
       "      <td>0</td>\n",
       "    </tr>\n",
       "    <tr>\n",
       "      <th>4</th>\n",
       "      <td>588127e8-c54e-42d0-955a-a22e64207a2f</td>\n",
       "      <td>4bbe29b6-f631-4146-829c-880d71809e26</td>\n",
       "      <td>2023-03-24</td>\n",
       "      <td>1</td>\n",
       "      <td>0</td>\n",
       "      <td>687</td>\n",
       "      <td>0</td>\n",
       "    </tr>\n",
       "  </tbody>\n",
       "</table>\n",
       "</div>"
      ],
      "text/plain": [
       "                            business_id                   lending_business_id decision_date drawn_flag everDPD_15 fico_score target\n",
       "0  a2317f88-325b-43ee-9423-6c711856555b  01e38425-5486-4c95-b6b0-de5c57319255    2023-02-02          1          0        721      0\n",
       "1  252c9a3f-338f-43fc-893f-87e4c8184e8c  166d62fb-70ed-4214-8a75-1223dfbbd06e    2023-03-15          1          0        846      0\n",
       "2  420bb9d6-c156-4e29-8060-420fa8753e7f  2c5dbbbc-327b-48ac-a737-73dc0c2a4d26    2023-03-07          1          0        720      0\n",
       "3  d9f1ffe7-f652-45ec-bdd6-5d530cf6a24a  588d7169-4d5c-4725-bc69-3e6d5e32d394    2023-02-15          1          0        720      0\n",
       "4  588127e8-c54e-42d0-955a-a22e64207a2f  4bbe29b6-f631-4146-829c-880d71809e26    2023-03-24          1          0        687      0"
      ]
     },
     "metadata": {},
     "output_type": "display_data"
    }
   ],
   "source": [
    "base_f.head()"
   ]
  },
  {
   "cell_type": "code",
   "execution_count": null,
   "metadata": {},
   "outputs": [
    {
     "data": {
      "text/html": [
       "<div>\n",
       "<style scoped>\n",
       "    .dataframe tbody tr th:only-of-type {\n",
       "        vertical-align: middle;\n",
       "    }\n",
       "\n",
       "    .dataframe tbody tr th {\n",
       "        vertical-align: top;\n",
       "    }\n",
       "\n",
       "    .dataframe thead th {\n",
       "        text-align: right;\n",
       "    }\n",
       "</style>\n",
       "<table border=\"1\" class=\"dataframe\">\n",
       "  <thead>\n",
       "    <tr style=\"text-align: right;\">\n",
       "      <th></th>\n",
       "      <th>id</th>\n",
       "      <th>transaction_id</th>\n",
       "      <th>date</th>\n",
       "      <th>amount</th>\n",
       "      <th>plaid_account_id</th>\n",
       "      <th>pending</th>\n",
       "      <th>description</th>\n",
       "      <th>created_at</th>\n",
       "      <th>merchant_name</th>\n",
       "      <th>retrieved_at</th>\n",
       "      <th>type</th>\n",
       "      <th>plaid_item_id</th>\n",
       "      <th>external_account_id</th>\n",
       "      <th>updated_at</th>\n",
       "      <th>meta</th>\n",
       "      <th>iso_currency_code</th>\n",
       "      <th>categories</th>\n",
       "      <th>business_id</th>\n",
       "      <th>_fivetran_deleted</th>\n",
       "      <th>_fivetran_synced</th>\n",
       "    </tr>\n",
       "  </thead>\n",
       "  <tbody>\n",
       "    <tr>\n",
       "      <th>0</th>\n",
       "      <td>c9d76863-62f2-495e-9fb3-05e7f94098b2</td>\n",
       "      <td>qeYbVB34YQu07Lo4rrdqfvE6qyJnRPCxaq3bq</td>\n",
       "      <td>2023-01-03</td>\n",
       "      <td>11.64</td>\n",
       "      <td>5KeXB1ZdevT8bmyLXXbKtekjgbq0EwTNL43Xj</td>\n",
       "      <td>false</td>\n",
       "      <td>QUICK CHEK FOO 12/31 #XXXXX5915 MOBILE PURCHAS...</td>\n",
       "      <td>2023-02-01 09:59:03.876000+00:00</td>\n",
       "      <td>QuickChek</td>\n",
       "      <td>2023-02-01 09:59:03.865000+00:00</td>\n",
       "      <td>debit</td>\n",
       "      <td>82c8cec7-ecf3-4f2f-a35e-bf2ea3390140</td>\n",
       "      <td>e82d9e16-fe88-473e-9fdb-b86c31c4ed72</td>\n",
       "      <td>2023-02-01 09:59:03.876000+00:00</td>\n",
       "      <td>{\\n  \"account_id\": \"5KeXB1ZdevT8bmyLXXbKtekjgb...</td>\n",
       "      <td>USD</td>\n",
       "      <td>Shops,Convenience Stores</td>\n",
       "      <td>24847a04-fdb1-411b-986a-67785732c800</td>\n",
       "      <td>None</td>\n",
       "      <td>2023-02-20 19:07:57.754000+00:00</td>\n",
       "    </tr>\n",
       "    <tr>\n",
       "      <th>1</th>\n",
       "      <td>781376a5-7437-4395-ae0d-fcca4c878c3c</td>\n",
       "      <td>nBPAA46qxLtLM1DaKb7rHrLR9AQO8JU0MrZKn</td>\n",
       "      <td>2022-08-29</td>\n",
       "      <td>6.96</td>\n",
       "      <td>vjvggVyZ5KUKMyEY8BV8iOYgbqBaABcm8zbOQ</td>\n",
       "      <td>false</td>\n",
       "      <td>Debit: Signature purchase from 435678000424939...</td>\n",
       "      <td>2022-10-07 02:48:22.883000+00:00</td>\n",
       "      <td>Love's</td>\n",
       "      <td>2022-10-07 02:48:22.883000+00:00</td>\n",
       "      <td>debit</td>\n",
       "      <td>74fbba95-3a5e-4969-bfb9-b8d2ceffd52e</td>\n",
       "      <td>01540901-b19e-4e13-aaa0-bcfc4a430cc1</td>\n",
       "      <td>2022-10-07 02:48:22.883000+00:00</td>\n",
       "      <td>{\\n  \"account_id\": \"vjvggVyZ5KUKMyEY8BV8iOYgbq...</td>\n",
       "      <td>USD</td>\n",
       "      <td>Travel,Gas Stations</td>\n",
       "      <td>fdbeb997-87d8-411e-a068-9a2297324910</td>\n",
       "      <td>None</td>\n",
       "      <td>2023-02-20 15:32:15.801000+00:00</td>\n",
       "    </tr>\n",
       "    <tr>\n",
       "      <th>2</th>\n",
       "      <td>e67f935c-813d-49d1-a8d8-65d17638f069</td>\n",
       "      <td>QKK5Z9YPKrijzMzPXeedIYvBpBrpZPiwEaep8</td>\n",
       "      <td>2023-01-17</td>\n",
       "      <td>100.00</td>\n",
       "      <td>9rrwN1y6rEFgB9Bn11agin1L3gkNxaFd7XZVm</td>\n",
       "      <td>false</td>\n",
       "      <td>SVCS42b21c 01-15 g.co/walleth# CA 2854 DEBIT C...</td>\n",
       "      <td>2023-01-19 08:28:49.787000+00:00</td>\n",
       "      <td>Google Play Store</td>\n",
       "      <td>2023-01-19 08:28:49.787000+00:00</td>\n",
       "      <td>debit</td>\n",
       "      <td>a923b118-7a37-4582-92cc-68f5daf9460b</td>\n",
       "      <td>7daba2a8-fb94-4abc-aaf8-65d2a7f1214a</td>\n",
       "      <td>2023-01-19 08:28:49.787000+00:00</td>\n",
       "      <td>{\\n  \"account_id\": \"9rrwN1y6rEFgB9Bn11agin1L3g...</td>\n",
       "      <td>USD</td>\n",
       "      <td>Shops,Digital Purchase</td>\n",
       "      <td>830bb334-3fba-4de7-9124-cb6de0cef4b3</td>\n",
       "      <td>None</td>\n",
       "      <td>2023-02-20 20:24:25.502000+00:00</td>\n",
       "    </tr>\n",
       "    <tr>\n",
       "      <th>3</th>\n",
       "      <td>7940c3c4-00c3-4bc5-8792-dba27e80fdef</td>\n",
       "      <td>YdBNDaKn1MhArx84PyBRTMQjYMXE6NCYRb6q7</td>\n",
       "      <td>2022-08-22</td>\n",
       "      <td>-40.00</td>\n",
       "      <td>0JK79B31aQTjMvg8bjKLf1XVnR3LDNSVPJyPN</td>\n",
       "      <td>false</td>\n",
       "      <td>Venmo</td>\n",
       "      <td>2023-01-29 06:19:44.857000+00:00</td>\n",
       "      <td>None</td>\n",
       "      <td>2023-01-29 06:19:44.856000+00:00</td>\n",
       "      <td>credit</td>\n",
       "      <td>2f8d1fcf-79c4-4eaa-b31c-04647cffa051</td>\n",
       "      <td>5e40ad0a-5b57-4b97-b61d-5889fa80e270</td>\n",
       "      <td>2023-01-29 06:19:44.857000+00:00</td>\n",
       "      <td>{\\n  \"account_id\": \"0JK79B31aQTjMvg8bjKLf1XVnR...</td>\n",
       "      <td>USD</td>\n",
       "      <td>Transfer,Third Party,Venmo</td>\n",
       "      <td>6ee06fa4-0720-41a4-853f-46eaf60c94e6</td>\n",
       "      <td>None</td>\n",
       "      <td>2023-02-20 15:34:30.892000+00:00</td>\n",
       "    </tr>\n",
       "    <tr>\n",
       "      <th>4</th>\n",
       "      <td>dfc839dd-68e5-4119-9053-19df7ff58b17</td>\n",
       "      <td>0MVob6BkdmtndgadNmzEc18Zz36g79tBZ9aZEv</td>\n",
       "      <td>2022-10-07</td>\n",
       "      <td>10.00</td>\n",
       "      <td>qk0PjONgBRCKVJkVOj03C1zmaeoaePFJeyRDy</td>\n",
       "      <td>false</td>\n",
       "      <td>PURCHASE AUTHORIZED ON 10/05 FPRAZ - KJZZ/K-BA...</td>\n",
       "      <td>2023-06-17 07:03:11.796000+00:00</td>\n",
       "      <td>Fpraz</td>\n",
       "      <td>2023-06-17 07:03:11.795000+00:00</td>\n",
       "      <td>debit</td>\n",
       "      <td>7fb87313-270c-4df8-b6d1-68796aa5f595</td>\n",
       "      <td>f3f06b4b-d645-4b09-a8d5-669656c1622f</td>\n",
       "      <td>2023-06-17 07:03:11.796000+00:00</td>\n",
       "      <td>{\\n  \"account_id\": \"qk0PjONgBRCKVJkVOj03C1zmae...</td>\n",
       "      <td>USD</td>\n",
       "      <td>Transfer,Debit</td>\n",
       "      <td>b14a4191-4139-446d-aa66-b071e4eb8ccb</td>\n",
       "      <td>None</td>\n",
       "      <td>2023-06-17 07:20:18.399000+00:00</td>\n",
       "    </tr>\n",
       "  </tbody>\n",
       "</table>\n",
       "</div>"
      ],
      "text/plain": [
       "                                     id                          transaction_id        date  amount                       plaid_account_id pending                                        description                        created_at      merchant_name                      retrieved_at    type                         plaid_item_id                   external_account_id                        updated_at                                               meta iso_currency_code                  categories                           business_id _fivetran_deleted                  _fivetran_synced\n",
       "0  c9d76863-62f2-495e-9fb3-05e7f94098b2   qeYbVB34YQu07Lo4rrdqfvE6qyJnRPCxaq3bq  2023-01-03   11.64  5KeXB1ZdevT8bmyLXXbKtekjgbq0EwTNL43Xj   false  QUICK CHEK FOO 12/31 #XXXXX5915 MOBILE PURCHAS...  2023-02-01 09:59:03.876000+00:00          QuickChek  2023-02-01 09:59:03.865000+00:00   debit  82c8cec7-ecf3-4f2f-a35e-bf2ea3390140  e82d9e16-fe88-473e-9fdb-b86c31c4ed72  2023-02-01 09:59:03.876000+00:00  {\\n  \"account_id\": \"5KeXB1ZdevT8bmyLXXbKtekjgb...               USD    Shops,Convenience Stores  24847a04-fdb1-411b-986a-67785732c800              None  2023-02-20 19:07:57.754000+00:00\n",
       "1  781376a5-7437-4395-ae0d-fcca4c878c3c   nBPAA46qxLtLM1DaKb7rHrLR9AQO8JU0MrZKn  2022-08-29    6.96  vjvggVyZ5KUKMyEY8BV8iOYgbqBaABcm8zbOQ   false  Debit: Signature purchase from 435678000424939...  2022-10-07 02:48:22.883000+00:00             Love's  2022-10-07 02:48:22.883000+00:00   debit  74fbba95-3a5e-4969-bfb9-b8d2ceffd52e  01540901-b19e-4e13-aaa0-bcfc4a430cc1  2022-10-07 02:48:22.883000+00:00  {\\n  \"account_id\": \"vjvggVyZ5KUKMyEY8BV8iOYgbq...               USD         Travel,Gas Stations  fdbeb997-87d8-411e-a068-9a2297324910              None  2023-02-20 15:32:15.801000+00:00\n",
       "2  e67f935c-813d-49d1-a8d8-65d17638f069   QKK5Z9YPKrijzMzPXeedIYvBpBrpZPiwEaep8  2023-01-17  100.00  9rrwN1y6rEFgB9Bn11agin1L3gkNxaFd7XZVm   false  SVCS42b21c 01-15 g.co/walleth# CA 2854 DEBIT C...  2023-01-19 08:28:49.787000+00:00  Google Play Store  2023-01-19 08:28:49.787000+00:00   debit  a923b118-7a37-4582-92cc-68f5daf9460b  7daba2a8-fb94-4abc-aaf8-65d2a7f1214a  2023-01-19 08:28:49.787000+00:00  {\\n  \"account_id\": \"9rrwN1y6rEFgB9Bn11agin1L3g...               USD      Shops,Digital Purchase  830bb334-3fba-4de7-9124-cb6de0cef4b3              None  2023-02-20 20:24:25.502000+00:00\n",
       "3  7940c3c4-00c3-4bc5-8792-dba27e80fdef   YdBNDaKn1MhArx84PyBRTMQjYMXE6NCYRb6q7  2022-08-22  -40.00  0JK79B31aQTjMvg8bjKLf1XVnR3LDNSVPJyPN   false                                              Venmo  2023-01-29 06:19:44.857000+00:00               None  2023-01-29 06:19:44.856000+00:00  credit  2f8d1fcf-79c4-4eaa-b31c-04647cffa051  5e40ad0a-5b57-4b97-b61d-5889fa80e270  2023-01-29 06:19:44.857000+00:00  {\\n  \"account_id\": \"0JK79B31aQTjMvg8bjKLf1XVnR...               USD  Transfer,Third Party,Venmo  6ee06fa4-0720-41a4-853f-46eaf60c94e6              None  2023-02-20 15:34:30.892000+00:00\n",
       "4  dfc839dd-68e5-4119-9053-19df7ff58b17  0MVob6BkdmtndgadNmzEc18Zz36g79tBZ9aZEv  2022-10-07   10.00  qk0PjONgBRCKVJkVOj03C1zmaeoaePFJeyRDy   false  PURCHASE AUTHORIZED ON 10/05 FPRAZ - KJZZ/K-BA...  2023-06-17 07:03:11.796000+00:00              Fpraz  2023-06-17 07:03:11.795000+00:00   debit  7fb87313-270c-4df8-b6d1-68796aa5f595  f3f06b4b-d645-4b09-a8d5-669656c1622f  2023-06-17 07:03:11.796000+00:00  {\\n  \"account_id\": \"qk0PjONgBRCKVJkVOj03C1zmae...               USD              Transfer,Debit  b14a4191-4139-446d-aa66-b071e4eb8ccb              None  2023-06-17 07:20:18.399000+00:00"
      ]
     },
     "metadata": {},
     "output_type": "display_data"
    }
   ],
   "source": [
    "txns_f.head()"
   ]
  },
  {
   "cell_type": "code",
   "execution_count": null,
   "metadata": {},
   "outputs": [
    {
     "data": {
      "text/plain": [
       "646"
      ]
     },
     "metadata": {},
     "output_type": "display_data"
    }
   ],
   "source": [
    "from sqlalchemy.types import NVARCHAR\n",
    "\n",
    "base_f.to_sql(name='lending_response_base_w_plaid_match_g20_txns_20230624',\n",
    "                 con=q.engine, \n",
    "                 schema='prod_db.adhoc',\n",
    "                 if_exists='append', \n",
    "                 index=False, \n",
    "                 chunksize=16000, \n",
    "                 method='multi',\n",
    "                 dtype={col_name: NVARCHAR for col_name in base_f})"
   ]
  },
  {
   "cell_type": "code",
   "execution_count": null,
   "metadata": {},
   "outputs": [
    {
     "data": {
      "text/plain": [
       "242282"
      ]
     },
     "metadata": {},
     "output_type": "display_data"
    }
   ],
   "source": [
    "txns_f.to_sql(name='lending_dda_l6m_plaid_txns_g20_txns_20230624',\n",
    "                 con=q.engine, \n",
    "                 schema='prod_db.adhoc',\n",
    "                 if_exists='append', \n",
    "                 index=False, \n",
    "                 chunksize=16000, \n",
    "                 method='multi',\n",
    "                 dtype={col_name: NVARCHAR for col_name in txns})"
   ]
  },
  {
   "attachments": {},
   "cell_type": "markdown",
   "metadata": {},
   "source": [
    "#### adding owned_by flag in txn data to filter the txns"
   ]
  },
  {
   "cell_type": "code",
   "execution_count": null,
   "metadata": {},
   "outputs": [
    {
     "data": {
      "text/plain": [
       "((242282, 21), 646)"
      ]
     },
     "metadata": {},
     "output_type": "display_data"
    }
   ],
   "source": [
    "tagged_txns = q(r\"\"\" \n",
    "select a.*, e.owned_by\n",
    "from prod_db.adhoc.lending_dda_l6m_plaid_txns_g20_txns_20230624 a\n",
    "left join METABASE_DB.EXTERNAL.EXTERNAL_ACCOUNTS e\n",
    "on a.external_account_id = e.id\n",
    "and a.business_id = e.business_id\n",
    "\"\"\")\n",
    "tagged_txns.shape, tagged_txns.business_id.nunique()"
   ]
  },
  {
   "cell_type": "code",
   "execution_count": null,
   "metadata": {},
   "outputs": [
    {
     "data": {
      "text/plain": [
       "242282"
      ]
     },
     "metadata": {},
     "output_type": "display_data"
    }
   ],
   "source": [
    "from sqlalchemy.types import NVARCHAR\n",
    "\n",
    "tagged_txns.to_sql(name='lending_dda_txns_w_owned_20230624',\n",
    "                 con=q.engine, \n",
    "                 schema='prod_db.adhoc',\n",
    "                 if_exists='append', \n",
    "                 index=False, \n",
    "                 chunksize=16000, \n",
    "                 method='multi',\n",
    "                 dtype={col_name: NVARCHAR for col_name in tagged_txns})"
   ]
  },
  {
   "cell_type": "code",
   "execution_count": null,
   "metadata": {},
   "outputs": [],
   "source": []
  },
  {
   "attachments": {},
   "cell_type": "markdown",
   "metadata": {},
   "source": [
    "#### filtering txns logic (basis owned_by and txn type)"
   ]
  },
  {
   "cell_type": "code",
   "execution_count": null,
   "metadata": {},
   "outputs": [
    {
     "data": {
      "text/plain": [
       "((200514, 21), 645, 200513)"
      ]
     },
     "metadata": {},
     "output_type": "display_data"
    }
   ],
   "source": [
    "filtered_txns = q(r\"\"\" \n",
    "with txn_base as (\n",
    "select * \n",
    "from prod_db.adhoc.lending_dda_txns_w_owned_20230624\n",
    "where business_id in (\n",
    "select distinct business_id from prod_db.adhoc.LENDING_BASE_TARGET_23JUN)\n",
    "),\n",
    "ext_acct_buss as\n",
    "(select distinct external_account_id, 'business' as business_flag from \n",
    "(SELECT external_account_id, --business_id,\n",
    "       CASE WHEN SUM(CASE WHEN type='debit' and OWNED_BY ='person' and\n",
    "                       (categories like '%Transfer,Payroll%' or UPPER(DESCRIPTION)\n",
    "                        like any ('%%PAYROLL%%', '%%ADP (AUTOMATIC DATA PROCESSING)%%', '%%PAYCHEX%%',\n",
    "                                  '%%GUSTO%%', '%%SQUARE PAYROLL%%', '%%INTUIT PAYROLL (QUICKBOOKS PAYROLL)%%', '%%ONPAY%%', '%%SUREPAYROLL%%',\n",
    "                                  '%%PATRIOT SOFTWARE%%',  '%%ZENEFITS%%', '%%JUSTWORKS%%',\n",
    "                                  '%%WAGEPOINT%%', '%%ZENPAYROLL%%', '%%GUSTO%%',\n",
    "                                  '%%FUSE WORKFORCE MANAGEMENT%%', '%%PAYCOR%%', '%%APS PAYROLL%%'))\n",
    "                      THEN 1 ELSE 0 END) >= 1 AND\n",
    "       SUM(CASE WHEN type='debit' and OWNED_BY ='person' and\n",
    "                     (categories like '%Transfer,Payroll%' or UPPER(DESCRIPTION)\n",
    "                        like any ('%%PAYROLL%%', '%%ADP (AUTOMATIC DATA PROCESSING)%%', '%%PAYCHEX%%',\n",
    "                                  '%%GUSTO%%', '%%SQUARE PAYROLL%%', '%%INTUIT PAYROLL (QUICKBOOKS PAYROLL)%%', '%%ONPAY%%', '%%SUREPAYROLL%%',\n",
    "                                  '%%PATRIOT SOFTWARE%%',  '%%ZENEFITS%%', '%%JUSTWORKS%%',\n",
    "                                  '%%WAGEPOINT%%', '%%ZENPAYROLL%%', '%%GUSTO%%',\n",
    "                                  '%%FUSE WORKFORCE MANAGEMENT%%', '%%PAYCOR%%', '%%APS PAYROLL%%')) THEN abs(amount) ELSE 0 END) > 1000\n",
    "       THEN 1 ELSE 0 END AS flag_payroll,\n",
    "       CASE WHEN SUM(CASE WHEN type ='credit' and OWNED_BY ='person' and UPPER(DESCRIPTION) ilike any ('%%RENT%%','%%COZY%%', '%%RENTPAYMENT%%', '%%ZILLOW RENTAL MANAGER%%',\n",
    "                                                        '%%AVAIL%%', '%%RENTEC DIRECT%%', '%%BUILDIUM%%', '%%APPFOLIO%%',\n",
    "                                                        '%%RENTLER%%', '%%TENANTCLOUD%%', '%%RENTREDI%%', '%%RENTMOOLA%%',\n",
    "                                                        '%%RENTIGO%%', '%%RENTTRACK%%', '%%RENTPOST%%', '%%RENTMONITOR%%',\n",
    "                                                        '%%RENTMERCHANT%%', '%%RENTEC PM%%', '%%RENTEC PAY%%',\n",
    "                                                        '%%PAYYOURRENT%%', '%%RENTPAIDONLINE%%')\n",
    "                      THEN 1 ELSE 0 END) >= 2 AND\n",
    "       SUM(CASE WHEN type ='credit' and OWNED_BY ='person' and UPPER(DESCRIPTION) ilike any ('%%RENT%%','%%COZY%%', '%%RENTPAYMENT%%', '%%ZILLOW RENTAL MANAGER%%',\n",
    "                                                        '%%AVAIL%%', '%%RENTEC DIRECT%%', '%%BUILDIUM%%', '%%APPFOLIO%%',\n",
    "                                                        '%%RENTLER%%', '%%TENANTCLOUD%%', '%%RENTREDI%%', '%%RENTMOOLA%%',\n",
    "                                                        '%%RENTIGO%%', '%%RENTTRACK%%', '%%RENTPOST%%', '%%RENTMONITOR%%',\n",
    "                                                        '%%RENTMERCHANT%%', '%%RENTEC PM%%', '%%RENTEC PAY%%',\n",
    "                                                        '%%PAYYOURRENT%%', '%%RENTPAIDONLINE%%') THEN abs(amount) ELSE 0 END) > 1000\n",
    "       THEN 1 ELSE 0 END AS  flag_rent,\n",
    "       CASE WHEN SUM(CASE WHEN type='credit' and OWNED_BY ='person' and UPPER(DESCRIPTION) ilike any ('%%AMAZON%%', '%%EBAY%%', '%%ETSY%%', '%%SHOPIFY%%', '%%WALMART MARKETPLACE%%',\n",
    "                                                      '%%WOOCOMMERCE%%', '%%BIGCOMMERCE%%',\n",
    "                                                      '%%SQUARE ONLINE STORE%%', '%%MAGENTO%%', '%%WIX STORES%%',\n",
    "                                                      '%%SQUARESPACE COMMERCE%%',\n",
    "                                                      '%%FACEBOOK MARKETPLACE%%', '%%INSTAGRAM SHOPPING%%',\n",
    "                                                      '%%GOOGLE SHOPPING%%', '%%LINKEDIN MARKETPLACE%%', '%%PINTEREST SHOP%%',\n",
    "                                                      '%%HOUZZ%%', '%%NEWEGG%%',\n",
    "                                                      '%%RAKUTEN%%', '%%BONANZA%%', '%%ZIBBET%%', '%%HANDMADE AT AMAZON%%',\n",
    "                                                      '%%STORENVY%%', '%%ECWID%%',\n",
    "                                                      '%%WEEBLY ECOMMERCE%%', '%%CRATEJOY%%', '%%TICTAIL%%', '%%DEPOP%%', '%%RUBY LANE%%', '%%TOPHATTER%%',\n",
    "                                                      '%%1STDIBS%%', '%%ARTFIRE%%', '%%ECRATER%%', '%%SOCIETY6%%', '%%REVERB%%',\n",
    "                                                      '%%OFFERUP%%', '%%LETGO%%', '%%MERCARI%%', '%%POSHMARK%%', '%%GRAILED%%')\n",
    "                      THEN 1 ELSE 0 END) >= 2 AND\n",
    "       SUM(CASE WHEN type='credit' and OWNED_BY ='person' and UPPER(DESCRIPTION) ilike any ('%%AMAZON%%', '%%EBAY%%', '%%ETSY%%', '%%SHOPIFY%%', '%%WALMART MARKETPLACE%%',\n",
    "                                                      '%%WOOCOMMERCE%%', '%%BIGCOMMERCE%%',\n",
    "                                                      '%%SQUARE ONLINE STORE%%', '%%MAGENTO%%', '%%WIX STORES%%',\n",
    "                                                      '%%SQUARESPACE COMMERCE%%',\n",
    "                                                      '%%FACEBOOK MARKETPLACE%%', '%%INSTAGRAM SHOPPING%%',\n",
    "                                                      '%%GOOGLE SHOPPING%%', '%%LINKEDIN MARKETPLACE%%', '%%PINTEREST SHOP%%',\n",
    "                                                      '%%HOUZZ%%', '%%NEWEGG%%',\n",
    "                                                      '%%RAKUTEN%%', '%%BONANZA%%', '%%ZIBBET%%', '%%HANDMADE AT AMAZON%%',\n",
    "                                                      '%%STORENVY%%', '%%ECWID%%',\n",
    "                                                      '%%WEEBLY ECOMMERCE%%', '%%CRATEJOY%%', '%%TICTAIL%%', '%%DEPOP%%', '%%RUBY LANE%%', '%%TOPHATTER%%',\n",
    "                                                      '%%1STDIBS%%', '%%ARTFIRE%%', '%%ECRATER%%', '%%SOCIETY6%%', '%%REVERB%%',\n",
    "                                                      '%%OFFERUP%%', '%%LETGO%%', '%%MERCARI%%', '%%POSHMARK%%', '%%GRAILED%%')  THEN abs(amount) ELSE 0 END) > 500\n",
    "       THEN 1 ELSE 0 END AS  online_platform_deposit,\n",
    "        CASE WHEN SUM(CASE WHEN type='credit' and\n",
    "            OWNED_BY ='person' and UPPER(DESCRIPTION) ilike any ('%%SQUARE%%','%%POS%%', '%%CARD PAYMENT','%%STRIPE%%')\n",
    "                      THEN 1 ELSE 0 END) >= 2 AND\n",
    "             SUM(CASE WHEN type='credit' and OWNED_BY ='person' and\n",
    "                 UPPER(DESCRIPTION) ilike any ('%%SQUARE%%','%%POS%%', '%%CARD PAYMENT','%%STRIPE%%')   THEN abs(amount) ELSE 0 END) > 1000\n",
    "       THEN 1 ELSE 0 END AS  business_like_payment,\n",
    "        CASE WHEN SUM(CASE WHEN OWNED_BY ='person' and UPPER(DESCRIPTION) ilike any\n",
    "  ('%%ONDECK%%', '%%KABBAGE%%', '%%BLUEVINE%%', '%%FUNDBOX%%', '%%FUNDERA%%',\n",
    "  '%%LENDIO%%', '%%CREDIBLY%%', '%%ACCION%%', '%%FUNDING CIRCLE%%', '%%STREETSHARES%%',\n",
    "  '%%SMARTBIZ LOANS%%', '%%NATIONAL FUNDING%%', '%%BIZ2CREDIT%%', '%%CAN CAPITAL%%',\n",
    "  '%%IOU FINANCIAL%%', '%%PAYPAL WORKING CAPITAL%%', '%%LENDINGCLUB%%', '%%QUARTERSPOT%%',\n",
    "  '%%FORA FINANCIAL%%', '%%BOND STREET%%', '%%RAPID FINANCE%%', '%%HEADWAY CAPITAL%%',\n",
    "  '%%SNAPCAP%%', '%%FORWARDLINE%%', '%%SHIELD FUNDING%%', '%%BFS CAPITAL%%', '%%MULLIGAN FUNDING%%',\n",
    "  '%%CYOGATE%%', '%%CAPIFY%%', '%%EXCEL CAPITAL MANAGEMENT%%', '%%BALBOA CAPITAL%%', '%%CREST CAPITAL%%',\n",
    "  '%%KEYSTONE FUNDING%%', '%%FAASTRAK%%', '%%HALO CAPITAL%%',\n",
    "  '%%SNAP ADVANCES%%', '%%JET CAPITAL%%', '%%SHARPSHOOTER FUNDING%%', '%%MULLIGAN FUNDING%%', '%%GREENBOX CAPITAL%%')\n",
    "                      THEN 1 ELSE 0 END) >0 AND\n",
    "             SUM(CASE WHEN OWNED_BY ='person' and UPPER(DESCRIPTION) ilike any\n",
    "  ('%%ONDECK%%', '%%KABBAGE%%', '%%BLUEVINE%%', '%%FUNDBOX%%', '%%FUNDERA%%',\n",
    "  '%%LENDIO%%', '%%CREDIBLY%%', '%%ACCION%%', '%%FUNDING CIRCLE%%', '%%STREETSHARES%%',\n",
    "  '%%SMARTBIZ LOANS%%', '%%NATIONAL FUNDING%%', '%%BIZ2CREDIT%%', '%%CAN CAPITAL%%',\n",
    "  '%%IOU FINANCIAL%%', '%%PAYPAL WORKING CAPITAL%%', '%%LENDINGCLUB%%', '%%QUARTERSPOT%%',\n",
    "  '%%FORA FINANCIAL%%', '%%BOND STREET%%', '%%RAPID FINANCE%%', '%%HEADWAY CAPITAL%%',\n",
    "  '%%SNAPCAP%%', '%%FORWARDLINE%%', '%%SHIELD FUNDING%%', '%%BFS CAPITAL%%', '%%MULLIGAN FUNDING%%',\n",
    "  '%%CYOGATE%%', '%%CAPIFY%%', '%%EXCEL CAPITAL MANAGEMENT%%', '%%BALBOA CAPITAL%%', '%%CREST CAPITAL%%',\n",
    "  '%%KEYSTONE FUNDING%%', '%%FAASTRAK%%', '%%HALO CAPITAL%%',\n",
    "  '%%SNAP ADVANCES%%', '%%JET CAPITAL%%', '%%SHARPSHOOTER FUNDING%%', '%%MULLIGAN FUNDING%%', '%%GREENBOX CAPITAL%%')\n",
    "   THEN abs(amount) ELSE 0 END) > 200\n",
    "       THEN 1 ELSE 0 END AS  business_loan,\n",
    "        CASE WHEN SUM(CASE WHEN type='debit' and OWNED_BY ='person' and\n",
    "UPPER(DESCRIPTION) ilike any ('%%WEWORK%%', '%%REGUS%%', '%%INDUSTRIOUS%%', '%%SPACES%%',\n",
    "                              '%%SERENDIPITY LABS%%', '%%KNOTEL%%', '%%IMPACT HUB%%',\n",
    "                              '%%TECHSPACE%%', '%%WORKBAR%%', '%%THE YARD%%', '%%NEUEHOUSE%%',\n",
    "                              '%%CONVENE%%', '%%PREMIER WORKSPACES%%', '%%OFFICE EVOLUTION%%',\n",
    "                              '%%COMMONGROUNDS WORKPLACE%%', '%%THE WING%%', '%%CARR WORKPLACES%%',\n",
    "                              '%%THE FARM SOHO%%', '%%VENTURE X%%', '%%HERA HUB%%', '%%DESKPASS%%',\n",
    "                              '%%MAKEOFFICES%%', '%%SECOND HOME%%', '%%LIQUIDSPACE%%', '%%THE RIVETER%%',\n",
    "                              '%%PROXIMITY SPACE%%', '%%COLAB COWORKING%%', '%%BOND COLLECTIVE%%',\n",
    "                              '%%ENERSPACE COWORKING%%', '%%GATHER%%', '%%HATCH COWORKING%%',\n",
    "                              '%%BUROHQ%%', '%%NOVEL COWORKING%%', '%%ALLEY%%', '%%THE SATELLITE%%',\n",
    "                              '%%GREEN SPACES%%', '%%OFFICE NOMADS%%', '%%CATAPULT%%', '%%CENDYN SPACES%%',\n",
    "                              '%%UNION COWORK%%', '%%NEXCORE%%', '%%GRIND%%', '%%HERA HUB%%', '%%PILOT%%',\n",
    "                              '%%THE PAD%%', '%%BLANKSPACES%%', '%%THE PORT WORKSPACES%%', '%%SERENDIPITY LABS%%',\n",
    "                              '%%HERA HUB%%', '%%ENERSPACE COWORKING%%', '%%BUROHQ%%')\n",
    "                      THEN 1 ELSE 0 END) >0 AND\n",
    "             SUM(CASE WHEN type='debit' and OWNED_BY ='person' and\n",
    "UPPER(DESCRIPTION) ilike any ('%%WEWORK%%', '%%REGUS%%', '%%INDUSTRIOUS%%', '%%SPACES%%',\n",
    "                              '%%SERENDIPITY LABS%%', '%%KNOTEL%%', '%%IMPACT HUB%%',\n",
    "                              '%%TECHSPACE%%', '%%WORKBAR%%', '%%THE YARD%%', '%%NEUEHOUSE%%',\n",
    "                              '%%CONVENE%%', '%%PREMIER WORKSPACES%%', '%%OFFICE EVOLUTION%%',\n",
    "                              '%%COMMONGROUNDS WORKPLACE%%', '%%THE WING%%', '%%CARR WORKPLACES%%',\n",
    "                              '%%THE FARM SOHO%%', '%%VENTURE X%%', '%%HERA HUB%%', '%%DESKPASS%%',\n",
    "                              '%%MAKEOFFICES%%', '%%SECOND HOME%%', '%%LIQUIDSPACE%%', '%%THE RIVETER%%',\n",
    "                              '%%PROXIMITY SPACE%%', '%%COLAB COWORKING%%', '%%BOND COLLECTIVE%%',\n",
    "                              '%%ENERSPACE COWORKING%%', '%%GATHER%%', '%%HATCH COWORKING%%',\n",
    "                              '%%BUROHQ%%', '%%NOVEL COWORKING%%', '%%ALLEY%%', '%%THE SATELLITE%%',\n",
    "                              '%%GREEN SPACES%%', '%%OFFICE NOMADS%%', '%%CATAPULT%%', '%%CENDYN SPACES%%',\n",
    "                              '%%UNION COWORK%%', '%%NEXCORE%%', '%%GRIND%%', '%%HERA HUB%%', '%%PILOT%%',\n",
    "                              '%%THE PAD%%', '%%BLANKSPACES%%', '%%THE PORT WORKSPACES%%', '%%SERENDIPITY LABS%%',\n",
    "                              '%%HERA HUB%%', '%%ENERSPACE COWORKING%%', '%%BUROHQ%%')\n",
    "   THEN abs(amount) ELSE 0 END) > 1000\n",
    "       THEN 1 ELSE 0 END AS  rental_co_work,\n",
    "    CASE WHEN SUM(CASE WHEN type='credit' and OWNED_BY ='person' and categories ilike '%Shops%'  THEN 1 ELSE 0 END) >= 10 AND\n",
    "                      SUM(CASE WHEN type='debit' and OWNED_BY ='person' and  categories ilike '%Shops%' THEN abs(amount) ELSE 0 END) > 2000\n",
    "                      THEN 1 ELSE 0 END AS  shops_money,\n",
    "       (flag_payroll + flag_rent + online_platform_deposit + business_like_payment+ business_loan+rental_co_work+shops_money) AS sum_flags\n",
    "FROM prod_db.adhoc.lending_dda_txns_w_owned_20230624\n",
    "where owned_by='person'\n",
    "GROUP BY 1)\n",
    "where sum_flags>0\n",
    "),\n",
    "buss_tag as (\n",
    "select distinct a.business_id, a.external_account_id,\n",
    "case when (a.owned_by is null or a.owned_by='' or a.owned_by='business') or (a.owned_by='person' and (b.business_flag='business')) then 1 else 0 end as business_tag\n",
    "from txn_base a\n",
    "left join ext_acct_buss b\n",
    "on a.external_account_id = b.external_account_id\n",
    "),\n",
    "person_txns as (\n",
    "select distinct a.business_id, a.external_account_id, a.transaction_id,\n",
    "case when \n",
    "(categories ilike '%Community%' and type='debit') or\n",
    "(categories ilike '%Food and Drink%' and type='debit') or\n",
    "(categories ilike '%Healthcare%' and type='debit') or\n",
    "(categories ilike '%Recreation%' and type='debit') or\n",
    "(categories ilike '%Payment,Rent%' and type='debit') or\n",
    "(categories ilike '%Service%' and type='debit') or\n",
    "(categories ilike '%Shops%' and type='debit') or\n",
    "(categories ilike '%Travel%' and type='debit') or\n",
    "(categories ilike '%Payroll%' and type='credit') or\n",
    "(categories ilike '%Loan%') or\n",
    "(categories ilike '%Tax%') or\n",
    "(categories ilike '%Interest%') or\n",
    "(categories ilike '%Transfer,Keep the Change Savings Program%') or\n",
    "(categories ilike '%Transfer%' and abs(amount)<1000) or\n",
    "(categories ilike '%Service,Financial,Loans and Mortgages%') or\n",
    "(categories ilike '%Service,Financial,Taxes%') or\n",
    "(categories ilike '%Insurance%') or\n",
    "(categories ilike '%Transfer,Save As You Go%')\n",
    "then 0 else 1 end as txn_inclusion_flag\n",
    "from txn_base a\n",
    "join buss_tag b\n",
    "on a.business_id = b.business_id\n",
    "and a.external_account_id = b.external_account_id\n",
    "where b.business_tag = 0\n",
    "),\n",
    "selected_txns as (\n",
    "select a.*\n",
    "from txn_base a\n",
    "join person_txns b\n",
    "on a.external_account_id = b.external_account_id\n",
    "and a.transaction_id = b.transaction_id\n",
    "where txn_inclusion_flag=1\n",
    "union\n",
    "select a.* \n",
    "from txn_base a\n",
    "join buss_tag b\n",
    "on a.external_account_id = b.external_account_id\n",
    "where business_tag=1\n",
    ")\n",
    "select * from selected_txns\n",
    "order by business_id, external_account_id, date\n",
    "\"\"\")\n",
    "filtered_txns.shape, filtered_txns.business_id.nunique(), filtered_txns.transaction_id.nunique()"
   ]
  },
  {
   "cell_type": "code",
   "execution_count": null,
   "metadata": {},
   "outputs": [
    {
     "data": {
      "text/plain": [
       "((242282, 21), (200514, 21))"
      ]
     },
     "metadata": {},
     "output_type": "display_data"
    }
   ],
   "source": [
    "tagged_txns.shape, filtered_txns.shape"
   ]
  },
  {
   "cell_type": "code",
   "execution_count": null,
   "metadata": {},
   "outputs": [
    {
     "data": {
      "text/plain": [
       "(owned_by\n",
       "               1895\n",
       " business     84668\n",
       " person      155719\n",
       " dtype: int64,\n",
       " owned_by\n",
       "               1895\n",
       " business     84668\n",
       " person      113951\n",
       " dtype: int64)"
      ]
     },
     "metadata": {},
     "output_type": "display_data"
    }
   ],
   "source": [
    "tagged_txns.groupby('owned_by').size(), filtered_txns.groupby('owned_by').size()"
   ]
  },
  {
   "attachments": {},
   "cell_type": "markdown",
   "metadata": {},
   "source": [
    "#### writing the final data"
   ]
  },
  {
   "cell_type": "code",
   "execution_count": null,
   "metadata": {},
   "outputs": [
    {
     "data": {
      "text/plain": [
       "200514"
      ]
     },
     "metadata": {},
     "output_type": "display_data"
    }
   ],
   "source": [
    "from sqlalchemy.types import NVARCHAR\n",
    "\n",
    "filtered_txns.to_sql(name='lending_dda_txns_w_owned_flag_final_20230625',\n",
    "                 con=q.engine, \n",
    "                 schema='prod_db.adhoc',\n",
    "                 if_exists='append', \n",
    "                 index=False, \n",
    "                 chunksize=16000, \n",
    "                 method='multi',\n",
    "                 dtype={col_name: NVARCHAR for col_name in filtered_txns})"
   ]
  },
  {
   "cell_type": "code",
   "execution_count": null,
   "metadata": {},
   "outputs": [],
   "source": []
  }
 ],
 "metadata": {
  "kernelspec": {
   "display_name": "Python 3",
   "language": "python",
   "name": "python3"
  },
  "language_info": {
   "name": "python",
   "version": "3.9.6 (default, Oct 18 2022, 12:41:40) \n[Clang 14.0.0 (clang-1400.0.29.202)]"
  },
  "orig_nbformat": 4,
  "vscode": {
   "interpreter": {
    "hash": "31f2aee4e71d21fbe5cf8b01ff0e069b9275f58929596ceb00d14d90e3e16cd6"
   }
  }
 },
 "nbformat": 4,
 "nbformat_minor": 2
}
